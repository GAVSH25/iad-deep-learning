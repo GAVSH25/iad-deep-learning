{
  "nbformat": 4,
  "nbformat_minor": 0,
  "metadata": {
    "colab": {
      "name": "Гавшина Елизавета задание на пароль.ipynb",
      "provenance": [],
      "authorship_tag": "ABX9TyMTHvDAv1Q/tXr0R7RMGpPL",
      "include_colab_link": true
    },
    "kernelspec": {
      "name": "python3",
      "display_name": "Python 3"
    },
    "language_info": {
      "name": "python"
    }
  },
  "cells": [
    {
      "cell_type": "markdown",
      "metadata": {
        "id": "view-in-github",
        "colab_type": "text"
      },
      "source": [
        "<a href=\"https://colab.research.google.com/github/GAVSH25/iad-deep-learning/blob/master/%D0%93%D0%B0%D0%B2%D1%88%D0%B8%D0%BD%D0%B0_%D0%95%D0%BB%D0%B8%D0%B7%D0%B0%D0%B2%D0%B5%D1%82%D0%B0_%D0%B7%D0%B0%D0%B4%D0%B0%D0%BD%D0%B8%D0%B5_%D0%BD%D0%B0_%D0%BF%D0%B0%D1%80%D0%BE%D0%BB%D1%8C.ipynb\" target=\"_parent\"><img src=\"https://colab.research.google.com/assets/colab-badge.svg\" alt=\"Open In Colab\"/></a>"
      ]
    },
    {
      "cell_type": "markdown",
      "metadata": {
        "id": "QsocqTQeGJxX"
      },
      "source": [
        "\t\n",
        "Напишите Python-функцию для проверки качества пароля в Яндекс.Почте. Хорошим считается пароль, который соответствует условиям:\n",
        "*   длина не менее 7 символов,\n",
        "*   содержит хотя бы 1 цифру,\n",
        "*   содержит хотя бы 1 букву верхнего регистра,\n",
        "*   содержит хотя бы 1 букву нижнего регистра,\n",
        "*   содержит только латинские буквы и цифры,\n",
        "*   не содержит повторяющиеся символы."
      ]
    },
    {
      "cell_type": "code",
      "metadata": {
        "id": "82Zgw0ZVfY4C"
      },
      "source": [
        "#импортируем нужный модуль\n",
        "import re"
      ],
      "execution_count": 1,
      "outputs": []
    },
    {
      "cell_type": "code",
      "metadata": {
        "colab": {
          "base_uri": "https://localhost:8080/"
        },
        "id": "aEhoFyA_J9hj",
        "outputId": "5f424fc3-c284-4c50-8e36-d1e72750d90f"
      },
      "source": [
        "#простое решение, не учитываем условие повтора\n",
        "def main():\n",
        "  password = input(\"Введите пароль\\n\")\n",
        "  allowed = \"^(?=.*[a-z])(?=.*[A-Z])(?=.*\\d)(?=.*[@#$%^&*()-+!?])[A-Za-z\\d@#$%^&*()-+!?]{7,100}$\"\n",
        "  pattern = re.compile(allowed) #строка регулярного выражения\n",
        "  mat = re.search(pattern, password)\n",
        "\n",
        "  if mat:\n",
        "    print(\"Пароль надежный\")\n",
        "  else:\n",
        "    print(\"Пароль ненадежный\")\n",
        "\n",
        "if __name__ == \"__main__\":\n",
        "  main()"
      ],
      "execution_count": null,
      "outputs": [
        {
          "output_type": "stream",
          "text": [
            "Введите пароль\n",
            "cfgvhbjnk\n",
            "Пароль ненадежный\n"
          ],
          "name": "stdout"
        }
      ]
    },
    {
      "cell_type": "code",
      "metadata": {
        "id": "cMffSP_rZ2Zv"
      },
      "source": [
        "#учитываем условие повтора\n",
        "def check_password (password):  \n",
        "\n",
        "  allowed = \"^(?=.*[a-z])(?=.*[A-Z])(?=.*\\d)(?=.*[@#$%^&*()-+!?])[A-Za-z\\d@#$%^&*()-+!?]{7,100}$\" #набор нужных нам символов\n",
        "  pattern = re.compile(allowed) #строка регулярного выражения\n",
        "  mat = re.search(pattern, password)\n",
        "  abc = []\n",
        "\n",
        "  for s in password:\n",
        "    letter = s\n",
        "    line = password\n",
        "    count = line.count(letter)\n",
        "    abc.append(count)\n",
        "  if any([x > 1 for x in abc]):\n",
        "    print(\"В пароле не должно быть повторов!\")\n",
        "  else:\n",
        "    if mat:\n",
        "      print(\"Сильный пароль:)\")\n",
        "    else:\n",
        "      print(\"Слабый пароль:(\")"
      ],
      "execution_count": 3,
      "outputs": []
    },
    {
      "cell_type": "markdown",
      "metadata": {
        "id": "WwXuxuvjitBh"
      },
      "source": [
        "Тест-кейсы"
      ]
    },
    {
      "cell_type": "code",
      "metadata": {
        "colab": {
          "base_uri": "https://localhost:8080/"
        },
        "id": "Do2NnC05We8d",
        "outputId": "5bba05d8-267c-474b-ab9a-cab89f625745"
      },
      "source": [
        "#сильный пароль\n",
        "password = input(\"Введите пароль\\n\")#Gvbn4!lk\n",
        "check_password(password)"
      ],
      "execution_count": 4,
      "outputs": [
        {
          "output_type": "stream",
          "text": [
            "Введите пароль\n",
            "Gvbn4!lk\n",
            "Сильный пароль:)\n"
          ],
          "name": "stdout"
        }
      ]
    },
    {
      "cell_type": "code",
      "metadata": {
        "colab": {
          "base_uri": "https://localhost:8080/"
        },
        "id": "c3HqPuM5i0SP",
        "outputId": "f7faf06c-df16-40fb-d756-8bde4b18ed7c"
      },
      "source": [
        "#слабый пароль\n",
        "password = input(\"Введите пароль\\n\")#GHkloiu7\n",
        "check_password(password)"
      ],
      "execution_count": 5,
      "outputs": [
        {
          "output_type": "stream",
          "text": [
            "Введите пароль\n",
            "GHkloiu7\n",
            "Слабый пароль:(\n"
          ],
          "name": "stdout"
        }
      ]
    },
    {
      "cell_type": "code",
      "metadata": {
        "colab": {
          "base_uri": "https://localhost:8080/"
        },
        "id": "qmeAgEeVjCM2",
        "outputId": "589469a9-d0f6-4178-f917-cfdc8419321f"
      },
      "source": [
        "#пароль с повторением символов\n",
        "password = input(\"Введите пароль\\n\")#Bnnghj7%\n",
        "check_password(password)"
      ],
      "execution_count": 6,
      "outputs": [
        {
          "output_type": "stream",
          "text": [
            "Введите пароль\n",
            "Bnnghj7%\n",
            "В пароле не должно быть повторов!\n"
          ],
          "name": "stdout"
        }
      ]
    },
    {
      "cell_type": "markdown",
      "metadata": {
        "id": "S-zbPVzOfusJ"
      },
      "source": [
        "**Задание 2**\n",
        "\n",
        "---\n",
        "\n",
        "\n",
        "Яндекс.Музыка проводит офлайн-фестиваль самых популярных исполнителей жанра техно. Чтобы привлечь пользователей на мероприятие, маркетолог Иван должен разослать email пользователям Музыки. Отправка одного письма стоит 10 рублей, а цена билета составляет 700 рублей. Как бы вы посоветовали Ивану сформировать выборку для отправки, учитывая логи прослушиваний пользователей Яндекс.Музыки?\n",
        "\n",
        "Обозначения в таблице:\n",
        "*   audition_id – ID прослушивания в логе\n",
        "*   utc_audition_start_dttm – дата начала прослушивания в формате YYYY-MM-DD hh:mm:ss\n",
        "*   utc_audition_end_dttm – дата окончания прослушивания в формате YYYY-MM-DD hh:mm:ss\n",
        "*   user_id – ID пользователя Яндекс.Музыки\n",
        "*   track_id – ID трека Яндекс.Музыки\n",
        "*   track_duration – продолжительность трека в секундах\n",
        "*   track_genre – жанр трека"
      ]
    },
    {
      "cell_type": "code",
      "metadata": {
        "id": "DpwfdigVrcqI"
      },
      "source": [
        "import pandas as pd\n",
        "import numpy as np\n",
        "import seaborn as sns\n",
        "import matplotlib.pyplot as plt"
      ],
      "execution_count": 7,
      "outputs": []
    },
    {
      "cell_type": "code",
      "metadata": {
        "colab": {
          "base_uri": "https://localhost:8080/"
        },
        "id": "Ws6groWtgDf1",
        "outputId": "8e213085-185a-4dad-d3e3-0dbef083f74d"
      },
      "source": [
        "#google drive\n",
        "FOLDER = \"яндекс задания\" \n",
        "\n",
        "PATH = \"drive/MyDrive/\" + FOLDER  + \"/\"\n",
        "from google.colab import drive\n",
        "drive.mount('/content/drive')\n",
        "import sys\n",
        "sys.path.append(PATH)"
      ],
      "execution_count": 8,
      "outputs": [
        {
          "output_type": "stream",
          "text": [
            "Mounted at /content/drive\n"
          ],
          "name": "stdout"
        }
      ]
    },
    {
      "cell_type": "code",
      "metadata": {
        "id": "RbM014jVrTc9"
      },
      "source": [
        "#download data\n",
        "data = pd.read_csv (PATH + \"music_data.csv\")"
      ],
      "execution_count": 9,
      "outputs": []
    },
    {
      "cell_type": "code",
      "metadata": {
        "colab": {
          "base_uri": "https://localhost:8080/",
          "height": 296
        },
        "id": "IvKKcXDGri7t",
        "outputId": "af9cffd5-e2c8-4c06-e970-433e6c54b9d6"
      },
      "source": [
        "data.head()"
      ],
      "execution_count": null,
      "outputs": [
        {
          "output_type": "execute_result",
          "data": {
            "text/html": [
              "<div>\n",
              "<style scoped>\n",
              "    .dataframe tbody tr th:only-of-type {\n",
              "        vertical-align: middle;\n",
              "    }\n",
              "\n",
              "    .dataframe tbody tr th {\n",
              "        vertical-align: top;\n",
              "    }\n",
              "\n",
              "    .dataframe thead th {\n",
              "        text-align: right;\n",
              "    }\n",
              "</style>\n",
              "<table border=\"1\" class=\"dataframe\">\n",
              "  <thead>\n",
              "    <tr style=\"text-align: right;\">\n",
              "      <th></th>\n",
              "      <th>Unnamed: 0</th>\n",
              "      <th>audition_id</th>\n",
              "      <th>track_duration</th>\n",
              "      <th>track_genre</th>\n",
              "      <th>track_id</th>\n",
              "      <th>user_id</th>\n",
              "      <th>utc_audition_end_dttm</th>\n",
              "      <th>utc_audition_start_dttm</th>\n",
              "    </tr>\n",
              "  </thead>\n",
              "  <tbody>\n",
              "    <tr>\n",
              "      <th>0</th>\n",
              "      <td>0</td>\n",
              "      <td>3fecd60bf5564de7bb0064335f482b4d</td>\n",
              "      <td>336.629082</td>\n",
              "      <td>RAP</td>\n",
              "      <td>efd614e5-239a-418e-b39c-181b43719b62</td>\n",
              "      <td>a72d73ea124840698aa8</td>\n",
              "      <td>2021-02-28T12:32:10.776000Z</td>\n",
              "      <td>2021-02-28T12:31:01.865000Z</td>\n",
              "    </tr>\n",
              "    <tr>\n",
              "      <th>1</th>\n",
              "      <td>1</td>\n",
              "      <td>8ae1703df8354ee6b8d39ce2ceae4508</td>\n",
              "      <td>428.797846</td>\n",
              "      <td>VOCAL</td>\n",
              "      <td>d4697e6e-698a-41e8-8e15-ec890c94751e</td>\n",
              "      <td>066cc9287de340f281ba</td>\n",
              "      <td>2021-01-19T12:13:43.369000Z</td>\n",
              "      <td>2021-01-19T12:12:48.185000Z</td>\n",
              "    </tr>\n",
              "    <tr>\n",
              "      <th>2</th>\n",
              "      <td>2</td>\n",
              "      <td>44383125d98a4d939e7f294602674fc6</td>\n",
              "      <td>463.467143</td>\n",
              "      <td>METAL</td>\n",
              "      <td>e006afab-c832-4d07-8cd0-7d4a9c2aabe8</td>\n",
              "      <td>95ed23b52b104f66b4b1</td>\n",
              "      <td>2021-02-27T19:53:57.143000Z</td>\n",
              "      <td>2021-02-27T19:52:42.470000Z</td>\n",
              "    </tr>\n",
              "    <tr>\n",
              "      <th>3</th>\n",
              "      <td>3</td>\n",
              "      <td>a90b74992c9f4046a68935cb83ced7ee</td>\n",
              "      <td>323.746259</td>\n",
              "      <td>HARDROCK</td>\n",
              "      <td>c2ea845c-fcba-480a-b41a-d58bf9493375</td>\n",
              "      <td>b0a6dcec6f604b50b37e</td>\n",
              "      <td>2021-02-24T01:51:44.526000Z</td>\n",
              "      <td>2021-02-24T01:46:25.549000Z</td>\n",
              "    </tr>\n",
              "    <tr>\n",
              "      <th>4</th>\n",
              "      <td>4</td>\n",
              "      <td>0d98a88fba0a4dc3bb0444089a0ce16b</td>\n",
              "      <td>316.888403</td>\n",
              "      <td>POP</td>\n",
              "      <td>ad68738c-2a38-4e0f-910a-71bb0aa0a0c0</td>\n",
              "      <td>6788b1c78a724de488c9</td>\n",
              "      <td>2020-12-24T05:04:32.855000Z</td>\n",
              "      <td>2020-12-24T05:00:09.645000Z</td>\n",
              "    </tr>\n",
              "  </tbody>\n",
              "</table>\n",
              "</div>"
            ],
            "text/plain": [
              "   Unnamed: 0  ...      utc_audition_start_dttm\n",
              "0           0  ...  2021-02-28T12:31:01.865000Z\n",
              "1           1  ...  2021-01-19T12:12:48.185000Z\n",
              "2           2  ...  2021-02-27T19:52:42.470000Z\n",
              "3           3  ...  2021-02-24T01:46:25.549000Z\n",
              "4           4  ...  2020-12-24T05:00:09.645000Z\n",
              "\n",
              "[5 rows x 8 columns]"
            ]
          },
          "metadata": {
            "tags": []
          },
          "execution_count": 4
        }
      ]
    },
    {
      "cell_type": "code",
      "metadata": {
        "colab": {
          "base_uri": "https://localhost:8080/"
        },
        "id": "QXRpy0JIsTNV",
        "outputId": "d55bcb4b-da8c-43b9-b1ba-da9c31467dc0"
      },
      "source": [
        "#значит так. Мы должны проверить среднюю продолжительность прослушиемого трека для каждого пользователя\n",
        "#также нужно учесть количество прослушанных пользователем треков\n",
        "#+учесть количество прослушанных пользователем треков в разрезе ЖАНРА (потому что нам важен жанр техно)\n",
        "data.groupby(\"user_id\")[\"track_duration\"].agg(\"count\") #можем выделить тех, кто слушает музыку чаще всего"
      ],
      "execution_count": null,
      "outputs": [
        {
          "output_type": "execute_result",
          "data": {
            "text/plain": [
              "user_id\n",
              "002123faf66b47b5aafa     343\n",
              "0041383820e248e487a6    1069\n",
              "008005a451764a63aa3f     638\n",
              "00c017dc34254d39a390     633\n",
              "00f628a2f8044ae18d88     415\n",
              "                        ... \n",
              "ff77d34a23c04d36a421     402\n",
              "ff9b606118d449f1ab15     426\n",
              "ffa2421c514844c087f3     627\n",
              "ffa5ecacdcfb466d8e91     534\n",
              "ffe8e02a691746d18159     457\n",
              "Name: track_duration, Length: 1727, dtype: int64"
            ]
          },
          "metadata": {
            "tags": []
          },
          "execution_count": 107
        }
      ]
    },
    {
      "cell_type": "code",
      "metadata": {
        "colab": {
          "base_uri": "https://localhost:8080/"
        },
        "id": "iC6PmP3zvl8a",
        "outputId": "4a1b42f8-d9ce-40d3-c312-5df39e2ea51d"
      },
      "source": [
        "total_duration = data.groupby(\"user_id\")[\"track_duration\"].agg(\"sum\")\n",
        "total_duration"
      ],
      "execution_count": null,
      "outputs": [
        {
          "output_type": "execute_result",
          "data": {
            "text/plain": [
              "user_id\n",
              "002123faf66b47b5aafa    216669.010226\n",
              "0041383820e248e487a6    703363.523762\n",
              "008005a451764a63aa3f    407814.829774\n",
              "00c017dc34254d39a390    411031.343888\n",
              "00f628a2f8044ae18d88    314266.279004\n",
              "                            ...      \n",
              "ff77d34a23c04d36a421    250547.003074\n",
              "ff9b606118d449f1ab15    281456.123596\n",
              "ffa2421c514844c087f3    403211.625826\n",
              "ffa5ecacdcfb466d8e91    306033.916924\n",
              "ffe8e02a691746d18159    321257.901692\n",
              "Name: track_duration, Length: 1727, dtype: float64"
            ]
          },
          "metadata": {
            "tags": []
          },
          "execution_count": 141
        }
      ]
    },
    {
      "cell_type": "code",
      "metadata": {
        "id": "WAQ_gRK9uRha"
      },
      "source": [
        "#сводная табличка\n",
        "table = pd.pivot_table(data, values = \"track_duration\", index = \"user_id\", columns = \"track_genre\", aggfunc = np.sum, fill_value=0)\n",
        "table1 = pd.pivot_table(data, values = \"track_duration\", index = \"user_id\", columns = \"track_genre\", aggfunc = np.mean, fill_value=0)"
      ],
      "execution_count": null,
      "outputs": []
    },
    {
      "cell_type": "code",
      "metadata": {
        "id": "6vLAb_rZxicO"
      },
      "source": [
        "#посмотрим, сколько времени пользователь тратит на прослушивание техно из прослушивания всех песен, проранжируем пользователей по процентному соотношению\n",
        "table = pd.pivot_table(data, values = \"track_duration\", index = \"user_id\", columns = \"track_genre\", aggfunc = np.sum, fill_value=0)\n",
        "techno = table[\"TECHNO\"]\n",
        "total_duration = data.groupby(\"user_id\")[\"track_duration\"].agg(\"sum\")\n",
        "percent = pd.DataFrame(techno/total_duration)"
      ],
      "execution_count": null,
      "outputs": []
    },
    {
      "cell_type": "code",
      "metadata": {
        "colab": {
          "base_uri": "https://localhost:8080/",
          "height": 431
        },
        "id": "DP7OVRbsy9lp",
        "outputId": "f454333c-20e9-4e67-82de-8b05ed678f74"
      },
      "source": [
        "#merge with something\n",
        "data1 = characteristics.merge(transactions, how = 'left', on = 'CustomerID')"
      ],
      "execution_count": null,
      "outputs": [
        {
          "output_type": "execute_result",
          "data": {
            "text/html": [
              "<div>\n",
              "<style scoped>\n",
              "    .dataframe tbody tr th:only-of-type {\n",
              "        vertical-align: middle;\n",
              "    }\n",
              "\n",
              "    .dataframe tbody tr th {\n",
              "        vertical-align: top;\n",
              "    }\n",
              "\n",
              "    .dataframe thead th {\n",
              "        text-align: right;\n",
              "    }\n",
              "</style>\n",
              "<table border=\"1\" class=\"dataframe\">\n",
              "  <thead>\n",
              "    <tr style=\"text-align: right;\">\n",
              "      <th></th>\n",
              "      <th>0</th>\n",
              "    </tr>\n",
              "    <tr>\n",
              "      <th>user_id</th>\n",
              "      <th></th>\n",
              "    </tr>\n",
              "  </thead>\n",
              "  <tbody>\n",
              "    <tr>\n",
              "      <th>002123faf66b47b5aafa</th>\n",
              "      <td>0.049377</td>\n",
              "    </tr>\n",
              "    <tr>\n",
              "      <th>0041383820e248e487a6</th>\n",
              "      <td>0.051324</td>\n",
              "    </tr>\n",
              "    <tr>\n",
              "      <th>008005a451764a63aa3f</th>\n",
              "      <td>0.049459</td>\n",
              "    </tr>\n",
              "    <tr>\n",
              "      <th>00c017dc34254d39a390</th>\n",
              "      <td>0.058517</td>\n",
              "    </tr>\n",
              "    <tr>\n",
              "      <th>00f628a2f8044ae18d88</th>\n",
              "      <td>0.052745</td>\n",
              "    </tr>\n",
              "    <tr>\n",
              "      <th>...</th>\n",
              "      <td>...</td>\n",
              "    </tr>\n",
              "    <tr>\n",
              "      <th>ff77d34a23c04d36a421</th>\n",
              "      <td>0.062151</td>\n",
              "    </tr>\n",
              "    <tr>\n",
              "      <th>ff9b606118d449f1ab15</th>\n",
              "      <td>0.048835</td>\n",
              "    </tr>\n",
              "    <tr>\n",
              "      <th>ffa2421c514844c087f3</th>\n",
              "      <td>0.036060</td>\n",
              "    </tr>\n",
              "    <tr>\n",
              "      <th>ffa5ecacdcfb466d8e91</th>\n",
              "      <td>0.060378</td>\n",
              "    </tr>\n",
              "    <tr>\n",
              "      <th>ffe8e02a691746d18159</th>\n",
              "      <td>0.037516</td>\n",
              "    </tr>\n",
              "  </tbody>\n",
              "</table>\n",
              "<p>1727 rows × 1 columns</p>\n",
              "</div>"
            ],
            "text/plain": [
              "                             0\n",
              "user_id                       \n",
              "002123faf66b47b5aafa  0.049377\n",
              "0041383820e248e487a6  0.051324\n",
              "008005a451764a63aa3f  0.049459\n",
              "00c017dc34254d39a390  0.058517\n",
              "00f628a2f8044ae18d88  0.052745\n",
              "...                        ...\n",
              "ff77d34a23c04d36a421  0.062151\n",
              "ff9b606118d449f1ab15  0.048835\n",
              "ffa2421c514844c087f3  0.036060\n",
              "ffa5ecacdcfb466d8e91  0.060378\n",
              "ffe8e02a691746d18159  0.037516\n",
              "\n",
              "[1727 rows x 1 columns]"
            ]
          },
          "metadata": {
            "tags": []
          },
          "execution_count": 153
        }
      ]
    },
    {
      "cell_type": "code",
      "metadata": {
        "colab": {
          "base_uri": "https://localhost:8080/",
          "height": 728
        },
        "id": "aVUTXIjozyev",
        "outputId": "08cb0ba2-06f8-43db-e39c-a2b44d312788"
      },
      "source": [
        "#посмотрим на относительную длительность песен разных стилей:\n",
        "data.groupby(\"track_genre\")[\"track_duration\"].describe()#ну такое, придется как-то учитывать среднюю продолжительность песни, ну или удалять подкасты, релакс и классику"
      ],
      "execution_count": null,
      "outputs": [
        {
          "output_type": "execute_result",
          "data": {
            "text/html": [
              "<div>\n",
              "<style scoped>\n",
              "    .dataframe tbody tr th:only-of-type {\n",
              "        vertical-align: middle;\n",
              "    }\n",
              "\n",
              "    .dataframe tbody tr th {\n",
              "        vertical-align: top;\n",
              "    }\n",
              "\n",
              "    .dataframe thead th {\n",
              "        text-align: right;\n",
              "    }\n",
              "</style>\n",
              "<table border=\"1\" class=\"dataframe\">\n",
              "  <thead>\n",
              "    <tr style=\"text-align: right;\">\n",
              "      <th></th>\n",
              "      <th>count</th>\n",
              "      <th>mean</th>\n",
              "      <th>std</th>\n",
              "      <th>min</th>\n",
              "      <th>25%</th>\n",
              "      <th>50%</th>\n",
              "      <th>75%</th>\n",
              "      <th>max</th>\n",
              "    </tr>\n",
              "    <tr>\n",
              "      <th>track_genre</th>\n",
              "      <th></th>\n",
              "      <th></th>\n",
              "      <th></th>\n",
              "      <th></th>\n",
              "      <th></th>\n",
              "      <th></th>\n",
              "      <th></th>\n",
              "      <th></th>\n",
              "    </tr>\n",
              "  </thead>\n",
              "  <tbody>\n",
              "    <tr>\n",
              "      <th>BLUES</th>\n",
              "      <td>5652.0</td>\n",
              "      <td>578.784888</td>\n",
              "      <td>29.037712</td>\n",
              "      <td>526.679071</td>\n",
              "      <td>557.344372</td>\n",
              "      <td>575.383488</td>\n",
              "      <td>603.811149</td>\n",
              "      <td>632.463165</td>\n",
              "    </tr>\n",
              "    <tr>\n",
              "      <th>CLASSICAL</th>\n",
              "      <td>4470.0</td>\n",
              "      <td>933.281535</td>\n",
              "      <td>40.750717</td>\n",
              "      <td>865.276919</td>\n",
              "      <td>906.613833</td>\n",
              "      <td>930.739368</td>\n",
              "      <td>958.135710</td>\n",
              "      <td>1049.087412</td>\n",
              "    </tr>\n",
              "    <tr>\n",
              "      <th>DANCE</th>\n",
              "      <td>15432.0</td>\n",
              "      <td>375.409102</td>\n",
              "      <td>16.570529</td>\n",
              "      <td>331.084629</td>\n",
              "      <td>363.527197</td>\n",
              "      <td>378.522128</td>\n",
              "      <td>386.791972</td>\n",
              "      <td>410.176093</td>\n",
              "    </tr>\n",
              "    <tr>\n",
              "      <th>DISCO</th>\n",
              "      <td>19526.0</td>\n",
              "      <td>395.095225</td>\n",
              "      <td>20.972698</td>\n",
              "      <td>351.767095</td>\n",
              "      <td>378.590815</td>\n",
              "      <td>395.589948</td>\n",
              "      <td>410.773375</td>\n",
              "      <td>444.750361</td>\n",
              "    </tr>\n",
              "    <tr>\n",
              "      <th>DUBSTEP</th>\n",
              "      <td>47722.0</td>\n",
              "      <td>500.153042</td>\n",
              "      <td>22.900353</td>\n",
              "      <td>419.189583</td>\n",
              "      <td>486.093491</td>\n",
              "      <td>499.675928</td>\n",
              "      <td>515.371200</td>\n",
              "      <td>572.008890</td>\n",
              "    </tr>\n",
              "    <tr>\n",
              "      <th>ELECTRONICS</th>\n",
              "      <td>41015.0</td>\n",
              "      <td>735.828505</td>\n",
              "      <td>34.337045</td>\n",
              "      <td>626.392413</td>\n",
              "      <td>712.455363</td>\n",
              "      <td>735.585422</td>\n",
              "      <td>761.641527</td>\n",
              "      <td>841.402440</td>\n",
              "    </tr>\n",
              "    <tr>\n",
              "      <th>HARDROCK</th>\n",
              "      <td>54338.0</td>\n",
              "      <td>325.856495</td>\n",
              "      <td>16.842780</td>\n",
              "      <td>273.928051</td>\n",
              "      <td>312.720225</td>\n",
              "      <td>325.637025</td>\n",
              "      <td>337.656496</td>\n",
              "      <td>371.755417</td>\n",
              "    </tr>\n",
              "    <tr>\n",
              "      <th>HOUSE</th>\n",
              "      <td>18479.0</td>\n",
              "      <td>300.008262</td>\n",
              "      <td>13.441803</td>\n",
              "      <td>265.106775</td>\n",
              "      <td>290.409278</td>\n",
              "      <td>302.529212</td>\n",
              "      <td>309.990857</td>\n",
              "      <td>328.443852</td>\n",
              "    </tr>\n",
              "    <tr>\n",
              "      <th>INDUSTRIAL</th>\n",
              "      <td>15735.0</td>\n",
              "      <td>279.025634</td>\n",
              "      <td>13.619084</td>\n",
              "      <td>240.635442</td>\n",
              "      <td>271.006595</td>\n",
              "      <td>279.393058</td>\n",
              "      <td>286.461387</td>\n",
              "      <td>319.783587</td>\n",
              "    </tr>\n",
              "    <tr>\n",
              "      <th>JAZZ</th>\n",
              "      <td>6283.0</td>\n",
              "      <td>578.472750</td>\n",
              "      <td>32.368178</td>\n",
              "      <td>524.544895</td>\n",
              "      <td>557.295629</td>\n",
              "      <td>577.286523</td>\n",
              "      <td>593.809617</td>\n",
              "      <td>646.078700</td>\n",
              "    </tr>\n",
              "    <tr>\n",
              "      <th>KPOP</th>\n",
              "      <td>49418.0</td>\n",
              "      <td>418.328719</td>\n",
              "      <td>21.781499</td>\n",
              "      <td>356.205838</td>\n",
              "      <td>403.382468</td>\n",
              "      <td>417.807617</td>\n",
              "      <td>433.947164</td>\n",
              "      <td>492.479439</td>\n",
              "    </tr>\n",
              "    <tr>\n",
              "      <th>METAL</th>\n",
              "      <td>50725.0</td>\n",
              "      <td>452.393251</td>\n",
              "      <td>22.221109</td>\n",
              "      <td>384.260830</td>\n",
              "      <td>436.457575</td>\n",
              "      <td>451.945938</td>\n",
              "      <td>465.974501</td>\n",
              "      <td>526.070538</td>\n",
              "    </tr>\n",
              "    <tr>\n",
              "      <th>PODCASTS</th>\n",
              "      <td>49666.0</td>\n",
              "      <td>4210.708248</td>\n",
              "      <td>223.184941</td>\n",
              "      <td>3733.666314</td>\n",
              "      <td>4043.849848</td>\n",
              "      <td>4192.914131</td>\n",
              "      <td>4391.212912</td>\n",
              "      <td>4786.285463</td>\n",
              "    </tr>\n",
              "    <tr>\n",
              "      <th>POP</th>\n",
              "      <td>149835.0</td>\n",
              "      <td>374.521012</td>\n",
              "      <td>18.465460</td>\n",
              "      <td>316.888403</td>\n",
              "      <td>362.204509</td>\n",
              "      <td>374.685512</td>\n",
              "      <td>386.263358</td>\n",
              "      <td>429.506790</td>\n",
              "    </tr>\n",
              "    <tr>\n",
              "      <th>POSTROCK</th>\n",
              "      <td>865.0</td>\n",
              "      <td>1290.964020</td>\n",
              "      <td>80.398008</td>\n",
              "      <td>1137.989899</td>\n",
              "      <td>1285.660930</td>\n",
              "      <td>1305.909307</td>\n",
              "      <td>1319.995743</td>\n",
              "      <td>1393.106121</td>\n",
              "    </tr>\n",
              "    <tr>\n",
              "      <th>PUNK</th>\n",
              "      <td>8190.0</td>\n",
              "      <td>306.771923</td>\n",
              "      <td>13.449113</td>\n",
              "      <td>269.198906</td>\n",
              "      <td>300.549202</td>\n",
              "      <td>307.822704</td>\n",
              "      <td>316.227295</td>\n",
              "      <td>330.340012</td>\n",
              "    </tr>\n",
              "    <tr>\n",
              "      <th>RAP</th>\n",
              "      <td>77198.0</td>\n",
              "      <td>356.900853</td>\n",
              "      <td>17.946041</td>\n",
              "      <td>310.532797</td>\n",
              "      <td>345.074069</td>\n",
              "      <td>355.677623</td>\n",
              "      <td>368.634171</td>\n",
              "      <td>417.230941</td>\n",
              "    </tr>\n",
              "    <tr>\n",
              "      <th>RELAX</th>\n",
              "      <td>7593.0</td>\n",
              "      <td>1002.698880</td>\n",
              "      <td>47.626118</td>\n",
              "      <td>872.160317</td>\n",
              "      <td>973.533129</td>\n",
              "      <td>998.083257</td>\n",
              "      <td>1039.633663</td>\n",
              "      <td>1079.214321</td>\n",
              "    </tr>\n",
              "    <tr>\n",
              "      <th>RNB</th>\n",
              "      <td>20509.0</td>\n",
              "      <td>380.362767</td>\n",
              "      <td>19.914239</td>\n",
              "      <td>324.192805</td>\n",
              "      <td>367.439849</td>\n",
              "      <td>378.670682</td>\n",
              "      <td>393.767328</td>\n",
              "      <td>430.457252</td>\n",
              "    </tr>\n",
              "    <tr>\n",
              "      <th>ROCK</th>\n",
              "      <td>98126.0</td>\n",
              "      <td>415.521762</td>\n",
              "      <td>20.357735</td>\n",
              "      <td>353.856381</td>\n",
              "      <td>402.458586</td>\n",
              "      <td>416.484943</td>\n",
              "      <td>428.398455</td>\n",
              "      <td>478.928882</td>\n",
              "    </tr>\n",
              "    <tr>\n",
              "      <th>TECHNO</th>\n",
              "      <td>59482.0</td>\n",
              "      <td>469.605097</td>\n",
              "      <td>23.345736</td>\n",
              "      <td>401.235537</td>\n",
              "      <td>453.298423</td>\n",
              "      <td>470.261156</td>\n",
              "      <td>484.330552</td>\n",
              "      <td>561.364746</td>\n",
              "    </tr>\n",
              "    <tr>\n",
              "      <th>VOCAL</th>\n",
              "      <td>42138.0</td>\n",
              "      <td>426.691425</td>\n",
              "      <td>21.811213</td>\n",
              "      <td>355.750921</td>\n",
              "      <td>413.107844</td>\n",
              "      <td>426.845275</td>\n",
              "      <td>442.597695</td>\n",
              "      <td>489.814656</td>\n",
              "    </tr>\n",
              "  </tbody>\n",
              "</table>\n",
              "</div>"
            ],
            "text/plain": [
              "                count         mean  ...          75%          max\n",
              "track_genre                         ...                          \n",
              "BLUES          5652.0   578.784888  ...   603.811149   632.463165\n",
              "CLASSICAL      4470.0   933.281535  ...   958.135710  1049.087412\n",
              "DANCE         15432.0   375.409102  ...   386.791972   410.176093\n",
              "DISCO         19526.0   395.095225  ...   410.773375   444.750361\n",
              "DUBSTEP       47722.0   500.153042  ...   515.371200   572.008890\n",
              "ELECTRONICS   41015.0   735.828505  ...   761.641527   841.402440\n",
              "HARDROCK      54338.0   325.856495  ...   337.656496   371.755417\n",
              "HOUSE         18479.0   300.008262  ...   309.990857   328.443852\n",
              "INDUSTRIAL    15735.0   279.025634  ...   286.461387   319.783587\n",
              "JAZZ           6283.0   578.472750  ...   593.809617   646.078700\n",
              "KPOP          49418.0   418.328719  ...   433.947164   492.479439\n",
              "METAL         50725.0   452.393251  ...   465.974501   526.070538\n",
              "PODCASTS      49666.0  4210.708248  ...  4391.212912  4786.285463\n",
              "POP          149835.0   374.521012  ...   386.263358   429.506790\n",
              "POSTROCK        865.0  1290.964020  ...  1319.995743  1393.106121\n",
              "PUNK           8190.0   306.771923  ...   316.227295   330.340012\n",
              "RAP           77198.0   356.900853  ...   368.634171   417.230941\n",
              "RELAX          7593.0  1002.698880  ...  1039.633663  1079.214321\n",
              "RNB           20509.0   380.362767  ...   393.767328   430.457252\n",
              "ROCK          98126.0   415.521762  ...   428.398455   478.928882\n",
              "TECHNO        59482.0   469.605097  ...   484.330552   561.364746\n",
              "VOCAL         42138.0   426.691425  ...   442.597695   489.814656\n",
              "\n",
              "[22 rows x 8 columns]"
            ]
          },
          "metadata": {
            "tags": []
          },
          "execution_count": 145
        }
      ]
    },
    {
      "cell_type": "code",
      "metadata": {
        "colab": {
          "base_uri": "https://localhost:8080/",
          "height": 795
        },
        "id": "xthuHm_VwrHH",
        "outputId": "de53d4c0-2d5a-4dc5-dffc-db6fc320ffc2"
      },
      "source": [
        "#корреляционная матрица зависимостей среднего времени прослушивания треков разных жанров\n",
        "corrmat = table.corr()\n",
        "f, ax = plt.subplots(figsize = (12, 12))\n",
        "sns.heatmap(corrmat, ax = ax, cmap =\"YlGnBu\", linewidths = 0.1) #пока непонятно что всё это значит"
      ],
      "execution_count": null,
      "outputs": [
        {
          "output_type": "execute_result",
          "data": {
            "text/plain": [
              "<matplotlib.axes._subplots.AxesSubplot at 0x7f79d7073990>"
            ]
          },
          "metadata": {
            "tags": []
          },
          "execution_count": 130
        },
        {
          "output_type": "display_data",
          "data": {
            "image/png": "[encoded data removed]",
            "text/plain": [
              "<Figure size 864x864 with 2 Axes>"
            ]
          },
          "metadata": {
            "tags": [],
            "needs_background": "light"
          }
        }
      ]
    },
    {
      "cell_type": "code",
      "metadata": {
        "id": "H5bC2vTkvJ3T"
      },
      "source": [
        "table = pd.pivot_table(df, values='D', index=['A', 'B'],\n",
        "                    columns=['C'], aggfunc=np.sum)"
      ],
      "execution_count": null,
      "outputs": []
    },
    {
      "cell_type": "code",
      "metadata": {
        "colab": {
          "base_uri": "https://localhost:8080/"
        },
        "id": "xUyiB2mbtxv-",
        "outputId": "503ea49a-9568-4d8a-f013-95369e2b777e"
      },
      "source": [
        "#больше всего треков прослушано в жанре POP, TECHNO на 4 месте (всего треки прослушаны 59 482 раза)\n",
        "#добавить долю прослушанных треков в стиле техно из всех прослушанных треков\n",
        "data[\"track_genre\"].value_counts()"
      ],
      "execution_count": null,
      "outputs": [
        {
          "output_type": "execute_result",
          "data": {
            "text/plain": [
              "POP            149835\n",
              "ROCK            98126\n",
              "RAP             77198\n",
              "TECHNO          59482\n",
              "HARDROCK        54338\n",
              "METAL           50725\n",
              "PODCASTS        49666\n",
              "KPOP            49418\n",
              "DUBSTEP         47722\n",
              "VOCAL           42138\n",
              "ELECTRONICS     41015\n",
              "RNB             20509\n",
              "DISCO           19526\n",
              "HOUSE           18479\n",
              "INDUSTRIAL      15735\n",
              "DANCE           15432\n",
              "PUNK             8190\n",
              "RELAX            7593\n",
              "JAZZ             6283\n",
              "BLUES            5652\n",
              "CLASSICAL        4470\n",
              "POSTROCK          865\n",
              "Name: track_genre, dtype: int64"
            ]
          },
          "metadata": {
            "tags": []
          },
          "execution_count": 117
        }
      ]
    },
    {
      "cell_type": "code",
      "metadata": {
        "id": "h1niqD_cuIZd"
      },
      "source": [
        "#возможно построить какую-нибудь корреляцию между прослушиванием пользователями треков разных жанров"
      ],
      "execution_count": null,
      "outputs": []
    },
    {
      "cell_type": "code",
      "metadata": {
        "id": "lb7UwJdO1d7w"
      },
      "source": [
        "#делаем таблицу в разрезе клиент + значения всяких статистик, которые могут быть полезны\n",
        "#затем возможно берем выбранные факторы, ставим им веса (перед эти нормализовав) и считаем score для каждого клиента, затем сортируем по этому score и выбираем топ-бла-бла"
      ],
      "execution_count": null,
      "outputs": []
    },
    {
      "cell_type": "code",
      "metadata": {
        "id": "PkcmBzM01nHJ"
      },
      "source": [
        "#возможно стоит обратить внимание на время последнего прослушивания музыки пользователем и сразу исключить тех, кто давно слушал музыку\n",
        "#то же самое относится к техно (но это неточно)"
      ],
      "execution_count": null,
      "outputs": []
    }
  ]
}